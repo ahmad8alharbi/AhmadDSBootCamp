{
  "nbformat": 4,
  "nbformat_minor": 0,
  "metadata": {
    "colab": {
      "provenance": [],
      "authorship_tag": "ABX9TyNr40oPUANqtOLdM4RfTHPh",
      "include_colab_link": true
    },
    "kernelspec": {
      "name": "python3",
      "display_name": "Python 3"
    },
    "language_info": {
      "name": "python"
    }
  },
  "cells": [
    {
      "cell_type": "markdown",
      "metadata": {
        "id": "view-in-github",
        "colab_type": "text"
      },
      "source": [
        "<a href=\"https://colab.research.google.com/github/ahmad8alharbi/AhmadDSBootCamp/blob/main/AhmadAlharbi_DS_BootCamp.ipynb\" target=\"_parent\"><img src=\"https://colab.research.google.com/assets/colab-badge.svg\" alt=\"Open In Colab\"/></a>"
      ]
    },
    {
      "cell_type": "code",
      "execution_count": null,
      "metadata": {
        "colab": {
          "base_uri": "https://localhost:8080/"
        },
        "id": "IwPim_dYDQ_-",
        "outputId": "fd584667-72ab-4efb-87f3-72d2feed7700"
      },
      "outputs": [
        {
          "output_type": "stream",
          "name": "stdout",
          "text": [
            "My Name is Ahmad and I am 40 years old\n"
          ]
        }
      ],
      "source": [
        "# Name\n",
        "Name = 'Ahmad'\n",
        "\n",
        "# Age\n",
        "Age = 40\n",
        "\n",
        "# Print the name and the age\n",
        "print (\"My Name is\",Name,\"and I am\",Age,\"years old\")"
      ]
    }
  ]
}