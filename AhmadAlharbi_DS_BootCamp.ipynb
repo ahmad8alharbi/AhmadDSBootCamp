{
  "nbformat": 4,
  "nbformat_minor": 0,
  "metadata": {
    "colab": {
      "provenance": [],
      "authorship_tag": "ABX9TyOe20MNiKRV/z1GdxOlnr87",
      "include_colab_link": true
    },
    "kernelspec": {
      "name": "python3",
      "display_name": "Python 3"
    },
    "language_info": {
      "name": "python"
    }
  },
  "cells": [
    {
      "cell_type": "markdown",
      "metadata": {
        "id": "view-in-github",
        "colab_type": "text"
      },
      "source": [
        "<a href=\"https://colab.research.google.com/github/ahmad8alharbi/AhmadDSBootCamp/blob/main/AhmadAlharbi_DS_BootCamp.ipynb\" target=\"_parent\"><img src=\"https://colab.research.google.com/assets/colab-badge.svg\" alt=\"Open In Colab\"/></a>"
      ]
    },
    {
      "cell_type": "code",
      "execution_count": null,
      "metadata": {
        "colab": {
          "base_uri": "https://localhost:8080/"
        },
        "id": "IwPim_dYDQ_-",
        "outputId": "fd584667-72ab-4efb-87f3-72d2feed7700"
      },
      "outputs": [
        {
          "output_type": "stream",
          "name": "stdout",
          "text": [
            "My Name is Ahmad and I am 40 years old\n"
          ]
        }
      ],
      "source": [
        "# HW1\n",
        "\n",
        "# Name\n",
        "Name = 'Ahmad'\n",
        "\n",
        "# Age\n",
        "Age = 40\n",
        "\n",
        "# Print the name and the age\n",
        "print (\"My Name is\",Name,\"and I am\",Age,\"years old\")"
      ]
    },
    {
      "cell_type": "code",
      "source": [
        "#HW2\n",
        "# define a funcation called Bounes that takes two inputs: Year, Evaluation\n",
        "\n",
        "def bounes_cal(years,eval):\n",
        "  if years <= 10:\n",
        "    if eval == \"Excellent\":\n",
        "      bounes_pers = 0.10\n",
        "    elif eval == \"Poor\":\n",
        "      bounes_pers = 0.05\n",
        "    else:\n",
        "      bounes_pers = 0.00\n",
        "  else:\n",
        "    if eval == \"Excellent\":\n",
        "      bounes_pers = 0.20\n",
        "    elif eval == \"Poor\":\n",
        "      bounes_pers = 0.15\n",
        "    else:\n",
        "      bounes_pers = 0.00\n",
        "  return bounes_pers\n",
        "\n",
        "empl_years = 20\n",
        "empl_eval = \"Excellent\"\n",
        "\n",
        "bounes = bounes_cal(empl_years,empl_eval)\n",
        "\n",
        "print(\"Bounes amount is %\", bounes*100)\n",
        "\n",
        "\n"
      ],
      "metadata": {
        "colab": {
          "base_uri": "https://localhost:8080/"
        },
        "id": "IN9TDygdeB9g",
        "outputId": "e3107f93-bc6a-4366-9609-b97abbaa9876"
      },
      "execution_count": null,
      "outputs": [
        {
          "output_type": "stream",
          "name": "stdout",
          "text": [
            "Bounes amount is % 20.0\n"
          ]
        }
      ]
    },
    {
      "cell_type": "code",
      "source": [
        "#HW3\n",
        "#Part 1\n",
        "# Set the value of 'n' to 8 (this will determine the number of lines in the pattern)\n",
        "n = 8\n",
        "\n",
        "# Iterate through the range of numbers from 0 to 'n' (exclusive)\n",
        "for i in range(n):\n",
        "    # Iterate through the range of numbers from 0 to 'i' (exclusive) for each 'i' in the outer loop\n",
        "    for j in range(i):\n",
        "        # Print '*' followed by a space without a new line (end=\"\" ensures printing in the same line)\n",
        "        print('* ', end=\"\")\n",
        "    # Move to the next line after printing '*' characters for the current 'i'\n",
        "    print('')\n",
        "\n",
        "# Iterate through the range of numbers from 'n' down to 1 (inclusive), decreasing by 1 in each iteration\n",
        "for i in range(n, 0, -1):\n",
        "    # Iterate through the range of numbers from 0 to 'i' (exclusive) for each 'i' in the outer loop\n",
        "    for j in range(i):\n",
        "        # Print '*' followed by a space without a new line (end=\"\" ensures printing in the same line)\n",
        "        print('* ', end=\"\")\n",
        "    # Move to the next line after printing '*' characters for the current 'i'\n",
        "    print('')\n",
        "\n",
        "#Part 2\n",
        "def is_prime(num):\n",
        "    \"\"\"Check if a number is prime.\"\"\"\n",
        "    if num < 2:\n",
        "        return False\n",
        "    for i in range(2, int(num**0.5) + 1):\n",
        "        if num % i == 0:\n",
        "            return False\n",
        "    return True\n",
        "\n",
        "# Find the first 3 prime numbers greater than 10 but less than 99\n",
        "count = 0\n",
        "number = 11  # Start checking from 11\n",
        "\n",
        "while count < 3:\n",
        "    if is_prime(number):\n",
        "        print(number)\n",
        "        count += 1\n",
        "    number += 1"
      ],
      "metadata": {
        "colab": {
          "base_uri": "https://localhost:8080/"
        },
        "id": "0Q1FLZ4hBtzl",
        "outputId": "c593033f-0a68-4a99-cfe3-bd7be6021202"
      },
      "execution_count": 2,
      "outputs": [
        {
          "output_type": "stream",
          "name": "stdout",
          "text": [
            "\n",
            "* \n",
            "* * \n",
            "* * * \n",
            "* * * * \n",
            "* * * * * \n",
            "* * * * * * \n",
            "* * * * * * * \n",
            "* * * * * * * * \n",
            "* * * * * * * \n",
            "* * * * * * \n",
            "* * * * * \n",
            "* * * * \n",
            "* * * \n",
            "* * \n",
            "* \n",
            "11\n",
            "13\n",
            "17\n"
          ]
        }
      ]
    },
    {
      "cell_type": "code",
      "source": [
        "#Quiz 1\n",
        "\n",
        "def two_sum(nums, target):\n",
        "    # Create a dictionary to store the difference between the target sum and each number\n",
        "    num_dict = {}\n",
        "\n",
        "    # Iterate through the array\n",
        "    for i, num in enumerate(nums):\n",
        "        # Calculate the difference needed to reach the target sum\n",
        "        difference = target - num\n",
        "\n",
        "        # If the difference is already in the dictionary, it means we found the pair\n",
        "        if difference in num_dict:\n",
        "            # Return the indices of the current number and the number that makes up the target sum\n",
        "            return [num_dict[difference], i]\n",
        "\n",
        "        # Otherwise, add the current number and its index to the dictionary\n",
        "        num_dict[num] = i\n",
        "\n",
        "    # If no solution is found, return None or an empty list\n",
        "    return None\n",
        "\n",
        "# Example usage:\n",
        "nums = [2, 5, 11, 15,6,7,9,10]\n",
        "target = 9\n",
        "print(two_sum(nums, target))  # Output: [0, 5] (indices of numbers 2 and 7 which add up to 9)"
      ],
      "metadata": {
        "colab": {
          "base_uri": "https://localhost:8080/"
        },
        "id": "FGu4ZxXWC-qq",
        "outputId": "950fb8aa-665d-413e-8ddc-6962e04bc162"
      },
      "execution_count": 3,
      "outputs": [
        {
          "output_type": "stream",
          "name": "stdout",
          "text": [
            "[0, 5]\n"
          ]
        }
      ]
    }
  ]
}